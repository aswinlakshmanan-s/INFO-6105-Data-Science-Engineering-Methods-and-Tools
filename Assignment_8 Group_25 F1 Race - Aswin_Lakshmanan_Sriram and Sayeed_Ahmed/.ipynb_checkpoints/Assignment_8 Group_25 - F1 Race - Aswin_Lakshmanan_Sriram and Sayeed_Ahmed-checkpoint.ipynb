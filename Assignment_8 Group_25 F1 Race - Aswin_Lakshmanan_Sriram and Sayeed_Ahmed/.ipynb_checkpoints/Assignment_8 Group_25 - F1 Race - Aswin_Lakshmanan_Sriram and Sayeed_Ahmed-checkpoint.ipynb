{
 "cells": [
  {
   "cell_type": "markdown",
   "id": "efc52af2",
   "metadata": {},
   "source": [
    "<div style=\"text-align: right\">INFO 6105 Data Sci Engineering Methods and Tools, Week 5 Homework</div>\n",
    "<div style=\"text-align: right\">Dino Konstantopoulos, 4 February 2024</div>\n",
    "\n",
    "OMG, Lewis Hamilton leaves Mercedes and [joins](https://www.cnn.com/2024/02/01/sport/lewis-hamilton-ferrari-mercedes-f1-spt-intl/index.html) Ferrari!\n",
    "<center>\n",
    "<img src = ./imageshw/toon-shock.png width = 400 />\n",
    "</center>\n",
    "\n",
    "Of course, we *all* know who's *still* going to win next season, don't we?\n",
    "\n",
    "<br />\n",
    "<center>\n",
    "<img src = ./images/maxv-toon.webp width = 400 />\n",
    "</center>"
   ]
  },
  {
   "cell_type": "markdown",
   "id": "3e3ddbbd",
   "metadata": {},
   "source": [
    "# Homework\n",
    "\n",
    "The [first F1 race](https://www.espn.com/f1/race/_/id/600041133) of the year is coming up!\n",
    "\n",
    "[This](https://www.formula1.com/en/racing/2024.html) is the schedule for F1 races for 2024, so Bahrain is coming up first, followed by Saudi Arabia and then Australia.\n",
    "\n",
    "The great Max Verstappen and his team (Red Bull) will once again lead all drivers, but... Lewis H. will try to put a stop at this!\n",
    "<center>\n",
    "<img src = ./images/lewishf-toon.png width = 600 />\n",
    "</center>\n",
    "<br />\n",
    "\n",
    "## Question 1 (20 points) \n",
    "Will [Max Verstappen](https://www.formula1.com/en/drivers/max-verstappen.html) rocks! win it all again in 2024? The first three F1 races are **Bahrain**, **Saudi Arabia**, and **Australia**! The 2023 driver standings are given [here](https://www.formula1.com/en/results.html/2023/drivers.html). \n",
    "\n",
    "Given these standings (***do not use team standings given on the same Web site, use driver standings***), what is the Probability Distribution for each F1 driver to win the Bahrain Grand Prix? What is the Probability Distribution for each F1 driver to win *both* the Bahrain and the Saudi Arabian Grand Prix? What is the Probability Distribution for each F1 driver to win the Bahrain, the Saudi Arabian, *and* the Australian Grand Prix? What is the probability for Red Bull to win all three races? What is the probability for Red Bull to win at least one race, at least two races, and at most two races? Note that Red Bull and all other racing teams have two drivers per race.\n",
    "\n",
    "## Question 2 (20 points) \n",
    "If Red Bull wins the first race, what is the probability that Red Bull wins the next two? If Red Bull wins at least one of these three races, what is the probability Red Bull wins all three? How about Ferrari, Mercedes, and Alfa Romeo?\n",
    "\n",
    "## Question 3 (40 points)\n",
    "Red Bull wins one of these three races on a rainy day. What is the probability Red Bull wins all three, assuming races can be held on either rainy, sunny, cloudy, snowy or foggy days? Assume that rain, sun, clouds, snow, and fog are the only possible weather conditions on race tracks and there is an equal probability for each one of these weather events.\n",
    "\n",
    "## Question 4 (20 points) Is it the car, or is it the driver?\n",
    "Lewis will  be joining Ferrari, and that is the *big* unknown for the '24 season. What is in your opinion the best way to predict how Lewis + Ferrari will fair, based on the the [2023 standings](https://www.formula1.com/en/results.html/2023/drivers.html), and any other statistics you can gather from that Web site?\n",
    "\n",
    "You need to provide *proof* for your answers by using code, in the form of a function. `I think it's one in a million because Ferrari sucks` is not a good answer.\n",
    "\n",
    "Even though standings are bound to change with the results of the first races, please assume that the standinds that you will use to predict results will *not change* and will be based on the results of the '23 season.\n",
    "\n",
    "Here's how you could begin to count the frequencies of wins for each driver in 2023 and renormalize into a probability distribution to predict probabilities of winning Bahrain"
   ]
  },
  {
   "cell_type": "code",
   "execution_count": 2,
   "id": "ac160c33",
   "metadata": {},
   "outputs": [],
   "source": [
    "class ProbDist(dict):\n",
    "    \"\"\"A Probability Distribution; an {outcome: probability} mapping.\"\"\"\n",
    "    def __init__(self, mapping=(), **kwargs):\n",
    "        self.update(mapping, **kwargs)\n",
    "        # Make probabilities sum to 1.0; assert no negative probabilities\n",
    "        total = sum(self.values())\n",
    "        for outcome in self:\n",
    "            self[outcome] = self[outcome] / total\n",
    "            assert self[outcome] >= 0"
   ]
  },
  {
   "cell_type": "code",
   "execution_count": 3,
   "id": "b524d7c5",
   "metadata": {},
   "outputs": [],
   "source": [
    "driver_points = {\n",
    "    'MV' : 575,\n",
    "    'SP' : 285,\n",
    "    'LH' : 234,\n",
    "    'FA' : 206,\n",
    "    'CL' : 206,\n",
    "    'CS' : 200,\n",
    "    'GR' : 175,\n",
    "    'OP' : 97,\n",
    "    'LS' : 74,\n",
    "    'PG' : 62,\n",
    "    'EO' : 58,\n",
    "    'AA' : 27,\n",
    "    'YT' : 17,\n",
    "    'VB' : 10,\n",
    "    'NH' : 9,\n",
    "    'DR' : 6,\n",
    "    'ZG' : 6,\n",
    "    'KM' : 3,\n",
    "    'LL' : 2,\n",
    "    'LSa' : 1,\n",
    "    'NDV' : 0}"
   ]
  },
  {
   "cell_type": "markdown",
   "id": "6374cac9",
   "metadata": {},
   "source": [
    "## Q1 \n",
    "### a)what is the Probability Distribution for each F1 driver to win the Bahrain Grand Prix?"
   ]
  },
  {
   "cell_type": "code",
   "execution_count": 4,
   "id": "25a73aed",
   "metadata": {},
   "outputs": [],
   "source": [
    "prob_bahrain = ProbDist(driver_points)"
   ]
  },
  {
   "cell_type": "code",
   "execution_count": 5,
   "id": "199449a4",
   "metadata": {},
   "outputs": [
    {
     "data": {
      "text/plain": [
       "{'MV': 0.25521526853084775,\n",
       " 'SP': 0.12649800266311584,\n",
       " 'LH': 0.10386151797603196,\n",
       " 'FA': 0.09143364403018198,\n",
       " 'CL': 0.09143364403018198,\n",
       " 'CS': 0.0887705281846427,\n",
       " 'GR': 0.07767421216156237,\n",
       " 'OP': 0.04305370616955171,\n",
       " 'LS': 0.032845095428317796,\n",
       " 'PG': 0.027518863737239236,\n",
       " 'EO': 0.02574345317354638,\n",
       " 'AA': 0.011984021304926764,\n",
       " 'YT': 0.007545494895694629,\n",
       " 'VB': 0.004438526409232135,\n",
       " 'NH': 0.0039946737683089215,\n",
       " 'DR': 0.002663115845539281,\n",
       " 'ZG': 0.002663115845539281,\n",
       " 'KM': 0.0013315579227696406,\n",
       " 'LL': 0.000887705281846427,\n",
       " 'LSa': 0.0004438526409232135,\n",
       " 'NDV': 0.0}"
      ]
     },
     "execution_count": 5,
     "metadata": {},
     "output_type": "execute_result"
    }
   ],
   "source": [
    "prob_bahrain"
   ]
  },
  {
   "cell_type": "markdown",
   "id": "4ed752f7",
   "metadata": {},
   "source": [
    "### b) What is the Probability Distribution for each F1 driver to win both the Bahrain and the Saudi Arabian Grand Prix?"
   ]
  },
  {
   "cell_type": "code",
   "execution_count": 6,
   "id": "24e3a07e",
   "metadata": {},
   "outputs": [
    {
     "data": {
      "text/plain": [
       "{'MV': 0.06513483329127273,\n",
       " 'SP': 0.01600174467775766,\n",
       " 'LH': 0.010787214916285611,\n",
       " 'FA': 0.008360111260638032,\n",
       " 'CL': 0.008360111260638032,\n",
       " 'CS': 0.007880206674180445,\n",
       " 'GR': 0.006033283234919403,\n",
       " 'OP': 0.001853621614934095,\n",
       " 'LS': 0.0010788002936953027,\n",
       " 'PG': 0.0007572878613887407,\n",
       " 'EO': 0.0006627253812985753,\n",
       " 'AA': 0.00014361676663693856,\n",
       " 'YT': 5.6934493220953704e-05,\n",
       " 'VB': 1.9700516685451112e-05,\n",
       " 'NH': 1.59574185152154e-05,\n",
       " 'DR': 7.092186006762401e-06,\n",
       " 'ZG': 7.092186006762401e-06,\n",
       " 'KM': 1.7730465016906002e-06,\n",
       " 'LL': 7.880206674180443e-07,\n",
       " 'LSa': 1.9700516685451109e-07,\n",
       " 'NDV': 0.0}"
      ]
     },
     "execution_count": 6,
     "metadata": {},
     "output_type": "execute_result"
    }
   ],
   "source": [
    "prob_bahrain_saudi = {driver: prob**2 for driver, prob in prob_bahrain.items()}\n",
    "prob_bahrain_saudi"
   ]
  },
  {
   "cell_type": "markdown",
   "id": "145839cc",
   "metadata": {},
   "source": [
    "### c) What is the Probability Distribution for each F1 driver to win the Bahrain, the Saudi Arabian, and the Australian Grand Prix?"
   ]
  },
  {
   "cell_type": "code",
   "execution_count": 7,
   "id": "b4fcddc0",
   "metadata": {},
   "outputs": [
    {
     "data": {
      "text/plain": [
       "{'MV': 0.01662340396914417,\n",
       " 'SP': 0.0020241887408614886,\n",
       " 'LH': 0.001120376515939118,\n",
       " 'FA': 0.0007643954370578937,\n",
       " 'CL': 0.0007643954370578937,\n",
       " 'CS': 0.0006995301086711447,\n",
       " 'GR': 0.00046863052201992706,\n",
       " 'OP': 7.980528035890245e-05,\n",
       " 'LS': 3.5433298594519476e-05,\n",
       " 'PG': 2.0839701467422066e-05,\n",
       " 'EO': 1.706083982038054e-05,\n",
       " 'AA': 1.721106391121767e-06,\n",
       " 'YT': 4.295989279876667e-07,\n",
       " 'VB': 8.744126358389308e-08,\n",
       " 'NH': 6.374468115265805e-08,\n",
       " 'DR': 1.8887312934120907e-08,\n",
       " 'ZG': 1.8887312934120907e-08,\n",
       " 'KM': 2.3609141167651134e-09,\n",
       " 'LL': 6.995301086711445e-10,\n",
       " 'LSa': 8.744126358389306e-11,\n",
       " 'NDV': 0.0}"
      ]
     },
     "execution_count": 7,
     "metadata": {},
     "output_type": "execute_result"
    }
   ],
   "source": [
    "prob_bahrain_saudi_australia = {driver: prob**3 for driver, prob in prob_bahrain.items()}\n",
    "prob_bahrain_saudi_australia"
   ]
  },
  {
   "cell_type": "markdown",
   "id": "87acb3f0",
   "metadata": {},
   "source": [
    "### d) What is the probability for Red Bull to win all three races? What is the probability for Red Bull to win at least one race, at least two races, and at most two races?"
   ]
  },
  {
   "cell_type": "code",
   "execution_count": 8,
   "id": "f6cd8b47",
   "metadata": {},
   "outputs": [
    {
     "name": "stdout",
     "output_type": "stream",
     "text": [
      "Probability for Red Bull to win all three races: 0.6360559999999997\n",
      "Probability for Red Bull to win at least one race: 0.997256\n",
      "Probability for Red Bull to win at least two races: 0.9466879999999999\n",
      "Probability for Red Bull to win at most two races: 0.36394400000000027\n"
     ]
    }
   ],
   "source": [
    "def prob_red_bull_wins(prob_bahrain):\n",
    "    prob_rb_win_one_race = prob_bahrain['MV'] + prob_bahrain['SP']\n",
    "\n",
    "    prob_rb_all_three = prob_rb_win_one_race ** 3\n",
    "\n",
    "    prob_rb_at_least_one = 1 - (1 - prob_rb_win_one_race) ** 3 # 1 minus the probability of not winning any race\n",
    "\n",
    "    prob_rb_at_least_two = 1 - ((1 - prob_rb_win_one_race) ** 3 + 3 * prob_rb_win_one_race * (1 - prob_rb_win_one_race) ** 2)\n",
    "\n",
    "    prob_rb_at_most_two = 1 - prob_rb_all_three\n",
    "\n",
    "    print(\"Probability for Red Bull to win all three races:\", prob_rb_all_three)\n",
    "    print(\"Probability for Red Bull to win at least one race:\", prob_rb_at_least_one)\n",
    "    print(\"Probability for Red Bull to win at least two races:\", prob_rb_at_least_two)\n",
    "    print(\"Probability for Red Bull to win at most two races:\", prob_rb_at_most_two)\n",
    "\n",
    "prob_bahrain = {\n",
    "    'MV' : 575/1000,\n",
    "    'SP' : 285/1000,\n",
    "    'LH' : 234/1000,\n",
    "    'FA' : 206/1000,\n",
    "    'CL' : 206/1000,\n",
    "    'CS' : 200/1000,\n",
    "    'GR' : 175/1000,\n",
    "    'OP' : 97/1000,\n",
    "    'LS' : 74/1000,\n",
    "    'PG' : 62/1000,\n",
    "    'EO' : 58/1000,\n",
    "    'AA' : 27/1000,\n",
    "    'YT' : 17/1000,\n",
    "    'VB' : 10/1000,\n",
    "    'NH' : 9/1000,\n",
    "    'DR' : 6/1000,\n",
    "    'ZG' : 6/1000,\n",
    "    'KM' : 3/1000,\n",
    "    'LL' : 2/1000,\n",
    "    'LSa' : 1/1000,\n",
    "    'NDV' : 0/1000,\n",
    "}\n",
    "\n",
    "prob_red_bull_wins(prob_bahrain)"
   ]
  },
  {
   "cell_type": "markdown",
   "id": "50f9e926",
   "metadata": {},
   "source": [
    "## Q2\n",
    "### If Red Bull wins the first race, what is the probability that Red Bull wins the next two? If Red Bull wins at least one of these three races, what is the probability Red Bull wins all three? How about Ferrari, Mercedes, and Alfa Romeo?"
   ]
  },
  {
   "cell_type": "code",
   "execution_count": 9,
   "id": "6724b21e",
   "metadata": {},
   "outputs": [
    {
     "ename": "NameError",
     "evalue": "name 'prob_rb_win_one_race' is not defined",
     "output_type": "error",
     "traceback": [
      "\u001b[0;31m---------------------------------------------------------------------------\u001b[0m",
      "\u001b[0;31mNameError\u001b[0m                                 Traceback (most recent call last)",
      "Cell \u001b[0;32mIn[9], line 2\u001b[0m\n\u001b[1;32m      1\u001b[0m \u001b[38;5;66;03m#what is the probability that Red Bull wins the next two?\u001b[39;00m\n\u001b[0;32m----> 2\u001b[0m prob_rb_next_two_if_win_first \u001b[38;5;241m=\u001b[39m prob_rb_win_one_race \u001b[38;5;241m*\u001b[39m\u001b[38;5;241m*\u001b[39m \u001b[38;5;241m2\u001b[39m\n\u001b[1;32m      3\u001b[0m \u001b[38;5;28mprint\u001b[39m(\u001b[38;5;124m\"\u001b[39m\u001b[38;5;124mProbability that Red Bull wins the next two:\u001b[39m\u001b[38;5;124m\"\u001b[39m, prob_rb_next_two_if_win_first)\n",
      "\u001b[0;31mNameError\u001b[0m: name 'prob_rb_win_one_race' is not defined"
     ]
    }
   ],
   "source": [
    "#what is the probability that Red Bull wins the next two?\n",
    "prob_rb_next_two_if_win_first = prob_rb_win_one_race ** 2\n",
    "print(\"Probability that Red Bull wins the next two:\", prob_rb_next_two_if_win_first)"
   ]
  },
  {
   "cell_type": "code",
   "execution_count": null,
   "id": "d326a97c",
   "metadata": {},
   "outputs": [],
   "source": [
    "#If Red Bull wins at least one of these three races, what is the probability Red Bull wins all three\n",
    "prob_rb_all_three_if_at_least_one = prob_rb_all_three / prob_rb_at_least_one\n",
    "print(\"If Red Bull wins at least one of these three races the probability Red Bull wins all three:\", prob_rb_all_three_if_at_least_one)"
   ]
  },
  {
   "cell_type": "markdown",
   "id": "9b4d2e03",
   "metadata": {},
   "source": [
    "## How about Ferrari, Mercedes, and Alfa Romeo?"
   ]
  },
  {
   "cell_type": "code",
   "execution_count": null,
   "id": "70cf13f8",
   "metadata": {},
   "outputs": [],
   "source": [
    "ferrari_drivers = ['CL', 'CS'] \n",
    "mercedes_drivers = ['LH', 'GR']  \n",
    "alfa_drivers = ['VB', 'ZG']  \n",
    "\n",
    "# Function to calculate a team probability of winning based on its drivers probability\n",
    "def team_win_probabilities(team_drivers, prob_dist):\n",
    "    team_prob_win_one_race = sum(prob_dist[driver] for driver in team_drivers)\n",
    "    prob_team_all_three = team_prob_win_one_race ** 3\n",
    "    prob_team_at_least_one = 1 - (1 - team_prob_win_one_race) ** 3\n",
    "    prob_team_at_least_two = 1 - ((1 - team_prob_win_one_race) ** 3 + 3 * team_prob_win_one_race * (1 - team_prob_win_one_race) ** 2)\n",
    "    prob_team_at_most_two = 1 - prob_team_all_three\n",
    "    return prob_team_all_three, prob_team_at_least_one, prob_team_at_least_two, prob_team_at_most_two\n",
    "\n",
    "# Ferrari Probabilites\n",
    "prob_ferrari_all_three, prob_ferrari_at_least_one, prob_ferrari_at_least_two, prob_ferrari_at_most_two = team_win_probabilities(ferrari_drivers, prob_bahrain)\n",
    "\n",
    "# Mercedes Probabilites\n",
    "prob_mercedes_all_three, prob_mercedes_at_least_one, prob_mercedes_at_least_two, prob_mercedes_at_most_two = team_win_probabilities(mercedes_drivers, prob_bahrain)\n",
    "\n",
    "# Alfa Romeo Probabilites\n",
    "prob_alfa_all_three, prob_alfa_at_least_one, prob_alfa_at_least_two, prob_alfa_at_most_two = team_win_probabilities(alfa_drivers, prob_bahrain)\n",
    "\n",
    "print(\"Ferrari - All Three:\", prob_ferrari_all_three, \"At Least One:\", prob_ferrari_at_least_one, \"At Least Two:\", prob_ferrari_at_least_two, \"At Most Two:\", prob_ferrari_at_most_two)\n",
    "print(\"Mercedes - All Three:\", prob_mercedes_all_three, \"At Least One:\", prob_mercedes_at_least_one, \"At Least Two:\", prob_mercedes_at_least_two, \"At Most Two:\", prob_mercedes_at_most_two)\n",
    "print(\"Alfa Romeo - All Three:\", prob_alfa_all_three, \"At Least One:\", prob_alfa_at_least_one, \"At Least Two:\", prob_alfa_at_least_two, \"At Most Two:\", prob_alfa_at_most_two)\n"
   ]
  },
  {
   "cell_type": "markdown",
   "id": "20f9dc76",
   "metadata": {},
   "source": [
    "## Q 3 \n",
    "\n",
    "### Red Bull wins one of these three races on a rainy day. What is the probability Red Bull wins all three, assuming races can be held on either rainy, sunny, cloudy, snowy or foggy days? Assume that rain, sun, clouds, snow, and fog are the only possible weather conditions on race tracks and there is an equal probability for each one of these weather events.\n"
   ]
  },
  {
   "cell_type": "code",
   "execution_count": null,
   "id": "93c5f4da",
   "metadata": {},
   "outputs": [],
   "source": [
    "def prob_rb_wins_all_three(prob_drivers, weather_prob):\n",
    "    prob_rb_win_single_race = prob_drivers['MV'] + prob_drivers['SP']\n",
    "    prob_rb_win_all_three_any_weather = prob_rb_win_single_race ** 3\n",
    "\n",
    "    prob_rb_win_rainy = prob_rb_win_single_race * weather_prob['Rainy']\n",
    "    prob_rb_not_win_rainy = (1 - prob_rb_win_rainy) ** 3\n",
    "    prob_rb_at_least_one_rainy = 1 - prob_rb_not_win_rainy\n",
    "\n",
    "    prob_rb_all_three_given_one_rainy = prob_rb_win_all_three_any_weather / prob_rb_at_least_one_rainy\n",
    "\n",
    "    return prob_rb_all_three_given_one_rainy\n",
    "\n",
    "prob_all_drivers = ProbDist(driver_points)\n",
    "weather = ProbDist({'Rainy':0.2, 'Sunny':0.2, 'Cloudy':0.2, 'Snowy':0.2, 'Foggy':0.2})\n",
    "\n",
    "prob_rb_all_three_given_one_rainy = prob_rb_wins_all_three(prob_all_drivers, weather)\n",
    "print(\"Probability of Red Bull winning all three races given at least one win on a rainy day:\", prob_rb_all_three_given_one_rainy)"
   ]
  },
  {
   "cell_type": "code",
   "execution_count": null,
   "id": "1dd9c470",
   "metadata": {},
   "outputs": [],
   "source": [
    "team_points = {\n",
    "    'Red Bull': 860,\n",
    "    'Mercedes': 409,\n",
    "    'Ferrari': 406,\n",
    "    'McLaren': 302,\n",
    "    'Aston Martin': 280,\n",
    "    'Alpine': 120,\n",
    "    'Williams': 28,\n",
    "    'AlphaTauri': 25,\n",
    "    'Alfa Romeo': 16,\n",
    "    'Haas': 12\n",
    "}\n",
    "prob_teams = ProbDist(team_performance)\n",
    " \n",
    "lewis_performance_prob = prob_all_drivers['LH']\n",
    "ferrari_team_prob = prob_teams['Ferrari']\n",
    " \n",
    "lewis_at_ferrari_predictive_score = (lewis_performance_prob + ferrari_team_prob) / 2\n",
    " \n",
    "print(f\"Lewis at Ferrari Predictive Score: {lewis_at_ferrari_predictive_score}\")"
   ]
  },
  {
   "cell_type": "code",
   "execution_count": null,
   "id": "151226ed",
   "metadata": {},
   "outputs": [],
   "source": []
  },
  {
   "cell_type": "code",
   "execution_count": null,
   "id": "c3377618",
   "metadata": {},
   "outputs": [],
   "source": []
  }
 ],
 "metadata": {
  "kernelspec": {
   "display_name": "Python 3 (ipykernel)",
   "language": "python",
   "name": "python3"
  },
  "language_info": {
   "codemirror_mode": {
    "name": "ipython",
    "version": 3
   },
   "file_extension": ".py",
   "mimetype": "text/x-python",
   "name": "python",
   "nbconvert_exporter": "python",
   "pygments_lexer": "ipython3",
   "version": "3.11.5"
  }
 },
 "nbformat": 4,
 "nbformat_minor": 5
}
