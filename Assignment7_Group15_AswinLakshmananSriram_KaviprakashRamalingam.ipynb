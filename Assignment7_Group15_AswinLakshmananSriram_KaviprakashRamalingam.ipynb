{
 "cells": [
  {
   "cell_type": "markdown",
   "id": "47089657",
   "metadata": {},
   "source": [
    "#### Group 15 - Aswin Lakshmanan Sriram & Kaviprakash Ramalingam"
   ]
  },
  {
   "cell_type": "markdown",
   "id": "2b775ed3",
   "metadata": {},
   "source": [
    "#### 1. Please write down the new function p(event, space) using an if clause, and the following helper function 'such_that' which applies a transformation (using a predicate argument, and a collection argument) to all possible outcomes to yield just the desired ones. A predicate is just a function that returns true or false."
   ]
  },
  {
   "cell_type": "code",
   "execution_count": 43,
   "id": "1b5d2a5b",
   "metadata": {},
   "outputs": [],
   "source": [
    "# Function to check if a number is prime\n",
    "def is_prime(n):\n",
    "    if n < 2:\n",
    "        return False\n",
    "    for i in range(2, int(n**0.5) + 1):\n",
    "        if n % i == 0:\n",
    "            return False \n",
    "    return True"
   ]
  },
  {
   "cell_type": "code",
   "execution_count": 44,
   "id": "a87f970f",
   "metadata": {},
   "outputs": [],
   "source": [
    "D = {1,2,3,4,5,6}\n",
    "\n",
    "D3 = {(d1, d2, d3) for d1 in D for d2 in D for d3 in D}"
   ]
  },
  {
   "cell_type": "code",
   "execution_count": 45,
   "id": "ada650a9",
   "metadata": {},
   "outputs": [],
   "source": [
    "# Generate all possible outcomes\n",
    "D3 = {(d1, d2, d3) for d1 in D for d2 in D for d3 in D}"
   ]
  },
  {
   "cell_type": "code",
   "execution_count": 46,
   "id": "bcbd9d34",
   "metadata": {},
   "outputs": [],
   "source": [
    "# Function to check if the sum of the outcome is prime\n",
    "def prime_sum(outcome):\n",
    "    return is_prime(sum(outcome))\n"
   ]
  },
  {
   "cell_type": "markdown",
   "id": "3c670daa",
   "metadata": {},
   "source": [
    "#### 2. Determine the probability that the sum of a three-dice roll is prime. Write a python code to compute this."
   ]
  },
  {
   "cell_type": "code",
   "execution_count": 47,
   "id": "01f073b3",
   "metadata": {},
   "outputs": [
    {
     "name": "stdout",
     "output_type": "stream",
     "text": [
      "0.33796296296296297\n"
     ]
    }
   ],
   "source": [
    "# predicate approach\n",
    "check_predicate = callable\n",
    "\n",
    "def p(event, space):\n",
    "    if check_predicate(event):\n",
    "        event = prime_that(event, space)\n",
    "    return (len(event & space)/ len(space))\n",
    "\n",
    "def such_that(predicate, collection):\n",
    "    return { i for i in collection if prime_sum(i) }\n",
    "\n",
    "print(p(prime_sum, D3))"
   ]
  },
  {
   "cell_type": "markdown",
   "id": "0a1c938c",
   "metadata": {},
   "source": [
    "#### 3. What is the probability that two students in this class have the same birthday? Which one of the two probabilities, this one or the previous one (probability that someone in this class shares your birthday), do you think is higher?"
   ]
  },
  {
   "cell_type": "code",
   "execution_count": 48,
   "id": "dab0b197",
   "metadata": {},
   "outputs": [
    {
     "name": "stdout",
     "output_type": "stream",
     "text": [
      "YOU share birthday with another student: 0.06301369863013699\n",
      "2 students share birthday: 0.5072972343239854\n"
     ]
    }
   ],
   "source": [
    "from operator import mul\n",
    "from functools import reduce\n",
    "\n",
    "def shares_my_birthday(n):\n",
    "    return n/365\n",
    "\n",
    "def two_students_share_same_birthday(n):\n",
    "    '''return 1 - 364/365 * 363/365 * .... * (365-n)/365'''\n",
    "    l = range(365, 365-n, -1)\n",
    "    return 1 - (reduce(mul, l,1)/(365**n))\n",
    "    \n",
    "\n",
    "print(\"YOU share birthday with another student: \" + str(shares_my_birthday(23)))\n",
    "print(\"2 students share birthday: \" + str(two_students_share_same_birthday(23)))"
   ]
  },
  {
   "cell_type": "markdown",
   "id": "96b89487",
   "metadata": {},
   "source": [
    "#### the probability that the original student (you) shares a birthday with at least one other student in a group of 23 students is approximately 6.3%. This means that, on average, when you are in a group of 23 students, there is a 6.3% chance that at least one of your classmates shares your birthday.\n",
    "\n",
    "#### The probability that at least two students in a group of 23 students share the same birthday is approximately 50.7%. This means that, on average, when you are in a group of 23 students, there is a 50.7% chance that at least two of your classmates share the same birthday. The probability of 2 students share the same birthday with another student is higher than the remaining 23 students"
   ]
  },
  {
   "cell_type": "code",
   "execution_count": null,
   "id": "6f03bb5b",
   "metadata": {},
   "outputs": [],
   "source": []
  }
 ],
 "metadata": {
  "kernelspec": {
   "display_name": "Python 3 (ipykernel)",
   "language": "python",
   "name": "python3"
  },
  "language_info": {
   "codemirror_mode": {
    "name": "ipython",
    "version": 3
   },
   "file_extension": ".py",
   "mimetype": "text/x-python",
   "name": "python",
   "nbconvert_exporter": "python",
   "pygments_lexer": "ipython3",
   "version": "3.11.5"
  }
 },
 "nbformat": 4,
 "nbformat_minor": 5
}
