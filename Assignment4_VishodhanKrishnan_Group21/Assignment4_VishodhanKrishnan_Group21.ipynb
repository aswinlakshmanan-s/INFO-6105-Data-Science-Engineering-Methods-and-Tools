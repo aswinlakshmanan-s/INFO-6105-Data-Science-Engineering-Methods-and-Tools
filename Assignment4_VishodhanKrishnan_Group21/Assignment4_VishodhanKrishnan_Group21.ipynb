{
 "cells": [
  {
   "cell_type": "markdown",
   "id": "88eb7566",
   "metadata": {},
   "source": [
    "# Assignment 4\n",
    "## Group 21 - Vishodhan Krishnan ; Aswin Sriram\n"
   ]
  },
  {
   "cell_type": "markdown",
   "id": "f19358bb",
   "metadata": {},
   "source": [
    "## Teamwork Homework #1"
   ]
  },
  {
   "cell_type": "markdown",
   "id": "65f88461",
   "metadata": {},
   "source": [
    "### Iterative Implementation\n",
    "In this method, we iterate the numbers till for a given range, add them on the fly and print them."
   ]
  },
  {
   "cell_type": "code",
   "execution_count": null,
   "id": "41f1b904",
   "metadata": {},
   "outputs": [],
   "source": [
    "def fibonacci(n):\n",
    "    a, b = 0,1\n",
    "    print(a, b, end=\"\\t\")\n",
    "    for _ in range(n - 2):\n",
    "        print(a+b, end='\\t')\n",
    "        a, b = b, a+b\n",
    "\n",
    "\n",
    "fibonacci(100)"
   ]
  },
  {
   "cell_type": "markdown",
   "id": "fea0036b",
   "metadata": {},
   "source": [
    "### Recursive implementation\n",
    "In this method, we recursively call the method to get the desired output.\n",
    "Note: Recursive implementation takes up CPU resources and takes a while to throw the output for large numbers (>50)"
   ]
  },
  {
   "cell_type": "code",
   "execution_count": null,
   "id": "2a429e7d",
   "metadata": {},
   "outputs": [],
   "source": [
    "def fibonacci_rec(n): return n if n<2 else fibonacci_rec(n-1) + fibonacci_rec(n-2)\n",
    "\n",
    "# print([fibonacci_rec(_) for _ in range(100)])\n"
   ]
  },
  {
   "cell_type": "markdown",
   "id": "67230026",
   "metadata": {},
   "source": [
    "### Generator implementation\n",
    "In this implementation, we make use of the 'yield' keyword instead of the print statement to save memory. This is a lazy implementation and improves the code performance. The output is typecasted to an eager structure to read the values"
   ]
  },
  {
   "cell_type": "code",
   "execution_count": null,
   "id": "06486f20",
   "metadata": {},
   "outputs": [],
   "source": [
    "def fibonacci_gen(n):\n",
    "    a, b = 0,1\n",
    "\n",
    "    for _ in range(n - 2):\n",
    "        yield a\n",
    "        a, b = b, a + b\n",
    "\n",
    "print(list(fibonacci_gen(100)))"
   ]
  },
  {
   "cell_type": "markdown",
   "id": "b0ba4592",
   "metadata": {},
   "source": [
    "## Teamwork Homework #2"
   ]
  },
  {
   "cell_type": "markdown",
   "id": "0e9e55d5",
   "metadata": {},
   "source": [
    "### Part 1 : Write a code to determine if a number is prime or not\n",
    "The below code checks if a number is prime or not. Any number cannot have a factor greater than half of itself, hence the same concept is reflected in the loop."
   ]
  },
  {
   "cell_type": "code",
   "execution_count": null,
   "id": "82f7798b",
   "metadata": {},
   "outputs": [],
   "source": [
    "def is_prime(n):\n",
    "    if n==1:\n",
    "        print(\" 1 is a factor!\")\n",
    "    elif n<2:\n",
    "        print(\"Please enter a valid input greater than zero!\")\n",
    "    elif n % 2 == 0:\n",
    "        print(f\"{n} is not a prime number\")\n",
    "    else:\n",
    "        for i in range(2, n//2+1):\n",
    "            if all([n%i]) and n>=2:\n",
    "                print(str(n)+ \" is a prime number\")"
   ]
  },
  {
   "cell_type": "code",
   "execution_count": null,
   "id": "68632a25",
   "metadata": {},
   "outputs": [],
   "source": [
    "is_prime(8)"
   ]
  },
  {
   "cell_type": "markdown",
   "id": "f41f74a3",
   "metadata": {},
   "source": [
    "### Part 2 Rewrite the code in one line of code!"
   ]
  },
  {
   "cell_type": "code",
   "execution_count": null,
   "id": "30d39744",
   "metadata": {},
   "outputs": [],
   "source": [
    "def is_primenum(n): [print(f\"{n} is a prime number\") if (all(n%i for i in range(2, n//2+1))) and n>=2 else print(f\"{n} is not a prime number\")]"
   ]
  },
  {
   "cell_type": "code",
   "execution_count": null,
   "id": "91f682f3",
   "metadata": {},
   "outputs": [],
   "source": [
    "is_primenum(12)"
   ]
  },
  {
   "cell_type": "markdown",
   "id": "3c0b0c0c",
   "metadata": {},
   "source": [
    "## Teamwork Homework #3\n"
   ]
  },
  {
   "cell_type": "markdown",
   "id": "35a145ec",
   "metadata": {},
   "source": [
    "Question 1 (50 points): Given how many sentences I want to see (n), and a number of seconds past midnight (ssm),\n",
    "write code that yields the next n sentences of both the chinese and hindi dictionaries, past ssm.\n",
    "Structure the result as a dictionary with two keys: chinese and hindi."
   ]
  },
  {
   "cell_type": "code",
   "execution_count": null,
   "id": "fbb3bb8e",
   "metadata": {},
   "outputs": [],
   "source": [
    "from bson.objectid import ObjectId\n",
    "from datetime import datetime\n",
    "import random\n",
    "\n",
    "random.seed(3)\n",
    "\n",
    "def prefix_crud_timestamp_suffix(key):\n",
    "    prefix = key[:3]\n",
    "    crud = key[3:4]\n",
    "    #hyphens = [i for i in range(len(key[:4])) if key[:4].startswith('-'', i)]\n",
    "    hyphen1 = key.find('-')\n",
    "    hyphen2 = key[5:].find('-')\n",
    "    timestamp = key[hyphen1+1:hyphen1+1+hyphen2]\n",
    "    suffix = key[hyphen1+hyphen2+2:]\n",
    "    return prefix, crud, timestamp, suffix #coll, op, time, guid\n",
    "\n",
    "## seconds since midnight, simulate non-contiguous times\n",
    "def ssm():\n",
    "    now = datetime.now()\n",
    "    midnight = now.replace(hour=0, minute=0, second=0, microsecond=0)\n",
    "    return str((now - midnight).seconds + random.randint(0, 1000))\n",
    "\n",
    "words = dict()\n",
    "def enter_words(en, zh = None, hi = None):\n",
    "    uid = ('zhon-' if zh != None else 'hind-' if hi != None else 'oops-') + ssm() + '-' + str(ObjectId())\n",
    "    words[uid] = (\n",
    "        dict(english = en, chinese = zh, _id = uid) if zh != None else \n",
    "        dict(english = en, hindi = hi, _id = uid) if hi != None else\n",
    "        dict(_id = uid)\n",
    "    )"
   ]
  },
  {
   "cell_type": "code",
   "execution_count": null,
   "id": "0bb22ddc",
   "metadata": {},
   "outputs": [],
   "source": [
    "file1 = open('cmn.txt', 'r', encoding='utf8')\n",
    "lines = file1.readlines()\n",
    "file1.close()\n",
    "\n",
    "for i,l in enumerate(lines):\n",
    "    t2 = l.split('\\t')\n",
    "    enter_words(t2[0][:-1], zh = t2[1][:-1])"
   ]
  },
  {
   "cell_type": "code",
   "execution_count": null,
   "id": "155f06bc",
   "metadata": {},
   "outputs": [],
   "source": [
    "file1 = open('hin.txt', 'r', encoding='utf8')\n",
    "lines = file1.readlines()\n",
    "file1.close()\n",
    "\n",
    "for i,l in enumerate(lines):\n",
    "    t2 = l.split('\\t')\n",
    "    enter_words(t2[0][:-1], hi = t2[1][:-1])"
   ]
  },
  {
   "cell_type": "code",
   "execution_count": null,
   "id": "7b7660e7",
   "metadata": {},
   "outputs": [],
   "source": [
    "separated = dict()\n",
    "separated['chinese'] = {k:v for k,v in words.items() if k.startswith('zhon')}\n",
    "separated['hindi'] = {k:v for k,v in words.items() if k.startswith('hind')}"
   ]
  },
  {
   "cell_type": "markdown",
   "id": "83fc4d84",
   "metadata": {},
   "source": [
    "### Question 1"
   ]
  },
  {
   "cell_type": "code",
   "execution_count": null,
   "id": "5011ffbd",
   "metadata": {},
   "outputs": [],
   "source": [
    "def Practice(n,ssm):\n",
    "    practice_sen = {lang: {} for lang in ['hindi', 'chinese']}\n",
    "    for lang in ['hindi','chinese']:\n",
    "        for i,(k,v) in enumerate(separated[lang].items()):\n",
    "            if int(k.split(\"-\")[1]) > ssm and i<n:\n",
    "                practice_sen[lang][k] =v\n",
    "    return practice_sen"
   ]
  },
  {
   "cell_type": "markdown",
   "id": "a652a118",
   "metadata": {},
   "source": [
    "The dictionary is created when the notebook cells are executed. Based on the when the notebook is run, the time elapsed since midnight can be different. Earlier the notebook is run in the day, lower the value of ssm.\n"
   ]
  },
  {
   "cell_type": "code",
   "execution_count": null,
   "id": "9502334a",
   "metadata": {},
   "outputs": [],
   "source": [
    "n,ssm = 5,20000"
   ]
  },
  {
   "cell_type": "markdown",
   "id": "6412188d",
   "metadata": {},
   "source": [
    "The wall time displayed keeps changing everytime the cell is run!"
   ]
  },
  {
   "cell_type": "code",
   "execution_count": null,
   "id": "d94ee625",
   "metadata": {},
   "outputs": [],
   "source": [
    "%time print(Practice(n,ssm),sep=\"\\n\")"
   ]
  },
  {
   "cell_type": "markdown",
   "id": "2b43d47e",
   "metadata": {},
   "source": [
    "### Question 2\n"
   ]
  },
  {
   "cell_type": "markdown",
   "id": "415e8df2",
   "metadata": {},
   "source": [
    "The below code traverses the values of the keys 'hindi' and 'chinese' of the dictionary \"separated\" and are assigned to their individual keys. Only those values whose ssm are greater than the given ssm (using k.split(\"-\")[1])."
   ]
  },
  {
   "cell_type": "code",
   "execution_count": null,
   "id": "86314da0",
   "metadata": {},
   "outputs": [],
   "source": [
    "def DuaLipa(n,ssm):\n",
    "    my_dict = {lang: {} for lang in ['hindi', 'chinese']}\n",
    "    for lang in my_dict:\n",
    "        my_dict[lang]={ k: v for i, (k,v) in enumerate(separated[lang].items()) if int(k.split(\"-\")[1]) > ssm  and i < n}\n",
    "    \n",
    "    return(my_dict)\n",
    "    \n",
    "    \n"
   ]
  },
  {
   "cell_type": "code",
   "execution_count": null,
   "id": "ac313ba3",
   "metadata": {},
   "outputs": [],
   "source": [
    "n,ssm = 2,20000"
   ]
  },
  {
   "cell_type": "code",
   "execution_count": null,
   "id": "14dca7dd",
   "metadata": {},
   "outputs": [],
   "source": [
    "print(DuaLipa(n,ssm),end=\"\\n\")"
   ]
  },
  {
   "cell_type": "code",
   "execution_count": null,
   "id": "63bcdfa5",
   "metadata": {},
   "outputs": [],
   "source": [
    "%time print(DuaLipa(n,ssm),sep=\"\\n\")"
   ]
  },
  {
   "cell_type": "code",
   "execution_count": null,
   "id": "7304b062",
   "metadata": {},
   "outputs": [],
   "source": []
  }
 ],
 "metadata": {
  "kernelspec": {
   "display_name": "Python 3 (ipykernel)",
   "language": "python",
   "name": "python3"
  },
  "language_info": {
   "codemirror_mode": {
    "name": "ipython",
    "version": 3
   },
   "file_extension": ".py",
   "mimetype": "text/x-python",
   "name": "python",
   "nbconvert_exporter": "python",
   "pygments_lexer": "ipython3",
   "version": "3.11.5"
  }
 },
 "nbformat": 4,
 "nbformat_minor": 5
}
